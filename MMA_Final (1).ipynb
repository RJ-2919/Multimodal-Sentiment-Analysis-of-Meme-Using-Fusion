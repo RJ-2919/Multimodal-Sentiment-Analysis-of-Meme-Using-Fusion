{
  "nbformat": 4,
  "nbformat_minor": 0,
  "metadata": {
    "colab": {
      "provenance": [],
      "gpuType": "V28"
    },
    "kernelspec": {
      "name": "python3",
      "display_name": "Python 3"
    },
    "language_info": {
      "name": "python"
    },
    "accelerator": "TPU"
  },
  "cells": [
    {
      "cell_type": "code",
      "execution_count": null,
      "metadata": {
        "colab": {
          "base_uri": "https://localhost:8080/"
        },
        "id": "bNroJIGiYTpi",
        "outputId": "a4e0755e-f004-4c59-b5b7-2b5d6636c409"
      },
      "outputs": [
        {
          "output_type": "stream",
          "name": "stdout",
          "text": [
            "Collecting torchviz\n",
            "  Downloading torchviz-0.0.2.tar.gz (4.9 kB)\n",
            "  Preparing metadata (setup.py) ... \u001b[?25l\u001b[?25hdone\n",
            "Requirement already satisfied: torch in /usr/local/lib/python3.10/dist-packages (from torchviz) (2.5.0+cpu)\n",
            "Collecting graphviz (from torchviz)\n",
            "  Downloading graphviz-0.20.3-py3-none-any.whl.metadata (12 kB)\n",
            "Requirement already satisfied: filelock in /usr/local/lib/python3.10/dist-packages (from torch->torchviz) (3.16.1)\n",
            "Requirement already satisfied: typing-extensions>=4.8.0 in /usr/local/lib/python3.10/dist-packages (from torch->torchviz) (4.12.2)\n",
            "Requirement already satisfied: networkx in /usr/local/lib/python3.10/dist-packages (from torch->torchviz) (3.4.2)\n",
            "Requirement already satisfied: jinja2 in /usr/local/lib/python3.10/dist-packages (from torch->torchviz) (3.1.4)\n",
            "Requirement already satisfied: fsspec in /usr/local/lib/python3.10/dist-packages (from torch->torchviz) (2024.10.0)\n",
            "Requirement already satisfied: sympy==1.13.1 in /usr/local/lib/python3.10/dist-packages (from torch->torchviz) (1.13.1)\n",
            "Requirement already satisfied: mpmath<1.4,>=1.1.0 in /usr/local/lib/python3.10/dist-packages (from sympy==1.13.1->torch->torchviz) (1.3.0)\n",
            "Requirement already satisfied: MarkupSafe>=2.0 in /usr/local/lib/python3.10/dist-packages (from jinja2->torch->torchviz) (3.0.2)\n",
            "Downloading graphviz-0.20.3-py3-none-any.whl (47 kB)\n",
            "\u001b[2K   \u001b[90m━━━━━━━━━━━━━━━━━━━━━━━━━━━━━━━━━━━━━━━━\u001b[0m \u001b[32m47.1/47.1 kB\u001b[0m \u001b[31m1.7 MB/s\u001b[0m eta \u001b[36m0:00:00\u001b[0m\n",
            "\u001b[?25hBuilding wheels for collected packages: torchviz\n",
            "  Building wheel for torchviz (setup.py) ... \u001b[?25l\u001b[?25hdone\n",
            "  Created wheel for torchviz: filename=torchviz-0.0.2-py3-none-any.whl size=4132 sha256=0a0dd6b029720845eb12e62ab5c3d963e528a32460d882700af2b63c2254bf86\n",
            "  Stored in directory: /root/.cache/pip/wheels/4c/97/88/a02973217949e0db0c9f4346d154085f4725f99c4f15a87094\n",
            "Successfully built torchviz\n",
            "Installing collected packages: graphviz, torchviz\n",
            "Successfully installed graphviz-0.20.3 torchviz-0.0.2\n"
          ]
        }
      ],
      "source": [
        "\n",
        "!pip install torchviz\n",
        "\n"
      ]
    },
    {
      "cell_type": "code",
      "source": [
        "# Importing necessary libraries for image processing\n",
        "import os\n",
        "import numpy as np\n",
        "import pandas as pd\n",
        "from PIL import Image\n",
        "from sklearn.model_selection import train_test_split\n",
        "from torch.utils.data import Dataset, DataLoader, Subset\n",
        "from torchvision import transforms\n",
        "\n",
        "# For text preprocessing and word embeddings\n",
        "import spacy\n",
        "import nltk\n",
        "from nltk.tokenize import word_tokenize\n",
        "from gensim.models import KeyedVectors\n",
        "import gensim.downloader as api\n",
        "\n",
        "# PyTorch libraries\n",
        "import torch\n",
        "import torch.nn as nn\n",
        "import torch.optim as optim\n",
        "import torch.nn.functional as F\n",
        "from torch.autograd import Variable\n",
        "\n",
        "# For visualization\n",
        "from torchviz import make_dot\n",
        "\n",
        "# For model evaluation\n",
        "from sklearn.metrics import accuracy_score, confusion_matrix\n",
        "import matplotlib.pyplot as plt\n",
        "import seaborn as sns\n",
        "\n",
        "# For saving and loading models\n",
        "import torch\n",
        "import os\n",
        "\n",
        "# For handling device (GPU/CPU) configurations\n",
        "import torch.cuda\n",
        "\n",
        "# If needed, for tqdm progress bars during training\n",
        "from tqdm import tqdm\n",
        "\n",
        "# For other utilities\n",
        "import random\n",
        "import string\n",
        "import time\n",
        "\n",
        "# For handling file I/O\n",
        "import shutil\n"
      ],
      "metadata": {
        "id": "_QnmliUbaYDu"
      },
      "execution_count": null,
      "outputs": []
    },
    {
      "cell_type": "code",
      "source": [
        "import numpy as np\n",
        "import gensim\n",
        "\n",
        "# Path to the GloVe file\n",
        "glove_file_path = \"/content/drive/MyDrive/glove.6B.50d.txt\"\n",
        "\n",
        "# Function to load GloVe embeddings\n",
        "def load_glove_model(glove_file_path):\n",
        "    print(\"Loading GloVe model...\")\n",
        "    model = {}\n",
        "    with open(glove_file_path, 'r', encoding='utf-8') as f:\n",
        "        for line in f:\n",
        "            values = line.split()\n",
        "            word = values[0]\n",
        "            vector = np.asarray(values[1:], dtype='float32')\n",
        "            model[word] = vector\n",
        "    print(f\"Loaded {len(model)} word vectors.\")\n",
        "    return model\n",
        "\n",
        "# Load the GloVe model\n",
        "glove_model = load_glove_model(glove_file_path)\n"
      ],
      "metadata": {
        "colab": {
          "base_uri": "https://localhost:8080/"
        },
        "id": "CHEPcXQOadCn",
        "outputId": "6fe2dd52-10e3-4243-8d70-e97c769df250"
      },
      "execution_count": null,
      "outputs": [
        {
          "output_type": "stream",
          "name": "stdout",
          "text": [
            "Loading GloVe model...\n",
            "Loaded 400000 word vectors.\n"
          ]
        }
      ]
    },
    {
      "cell_type": "code",
      "source": [
        "import spacy\n",
        "\n",
        "# Load spaCy English tokenizer\n",
        "nlp = spacy.load(\"en_core_web_sm\")\n",
        "\n",
        "# Function to preprocess the text\n",
        "def preprocess_text(text):\n",
        "    # Tokenize and lemmatize the text, removing stopwords and punctuation\n",
        "    doc = nlp(text)\n",
        "    processed_tokens = [token.lemma_ for token in doc if not token.is_stop and not token.is_punct]\n",
        "    return processed_tokens\n",
        "\n"
      ],
      "metadata": {
        "id": "Z1IQjTe8aj75"
      },
      "execution_count": null,
      "outputs": []
    },
    {
      "cell_type": "markdown",
      "source": [
        "**EMBEDDINGS**"
      ],
      "metadata": {
        "id": "kuuRDmP3bDF-"
      }
    },
    {
      "cell_type": "code",
      "source": [
        "# Function to convert text to GloVe embeddings\n",
        "def text_to_glove_vector(text, glove_model):\n",
        "    tokens = preprocess_text(text)\n",
        "    vector = np.zeros(50)  # Size of GloVe vectors (50D in this case)\n",
        "    valid_tokens = 0\n",
        "\n",
        "    # Sum the word vectors for each word in the processed text\n",
        "    for token in tokens:\n",
        "        if token in glove_model:\n",
        "            vector += glove_model[token]\n",
        "            valid_tokens += 1\n",
        "\n",
        "    # If there are valid tokens, return the average; otherwise, return zero vector\n",
        "    if valid_tokens > 0:\n",
        "        vector /= valid_tokens\n",
        "    return vector\n",
        "\n"
      ],
      "metadata": {
        "id": "abh44VXja_54"
      },
      "execution_count": null,
      "outputs": []
    },
    {
      "cell_type": "code",
      "source": [
        "import pandas as pd\n",
        "import json\n",
        "\n",
        "# Load the JSONL file\n",
        "def load_jsonl(file_path):\n",
        "    with open(file_path, 'r') as f:\n",
        "        data = [json.loads(line) for line in f]\n",
        "    return data\n",
        "\n",
        "# Load the train.jsonl file (adjust path as needed)\n",
        "train_data = load_jsonl('/content/drive/MyDrive/data/train.jsonl')\n",
        "\n",
        "# Preview the data structure\n",
        "print(train_data[0])  # print the first entry to understand the structure\n",
        "\n",
        "# Extracting the image path, text, and label\n",
        "image_paths = [entry['img'] for entry in train_data]\n",
        "texts = [entry['text'] for entry in train_data]\n",
        "labels = [entry['label'] for entry in train_data]  # Assuming the label is in the 'label' field\n"
      ],
      "metadata": {
        "colab": {
          "base_uri": "https://localhost:8080/"
        },
        "id": "MmyJgz0zbCiY",
        "outputId": "df9fe06b-8c89-42ae-c7ef-a00611a1d1f7"
      },
      "execution_count": null,
      "outputs": [
        {
          "output_type": "stream",
          "name": "stdout",
          "text": [
            "{'id': 42953, 'img': 'img/42953.png', 'label': 0, 'text': 'its their character not their color that matters'}\n"
          ]
        }
      ]
    },
    {
      "cell_type": "code",
      "source": [
        "import spacy\n",
        "\n",
        "# Load spaCy's English model\n",
        "nlp = spacy.load('en_core_web_sm')\n",
        "\n",
        "# Function to preprocess text\n",
        "def preprocess_text(text):\n",
        "    doc = nlp(text)\n",
        "    # Lemmatizing and removing punctuation or spaces\n",
        "    processed_tokens = [token.lemma_ for token in doc if not token.is_punct and not token.is_space]\n",
        "    return \" \".join(processed_tokens)\n",
        "\n",
        "# Apply preprocessing to the text data\n",
        "processed_texts = [preprocess_text(text) for text in texts]\n"
      ],
      "metadata": {
        "id": "O_pgjENUbI5B"
      },
      "execution_count": null,
      "outputs": []
    },
    {
      "cell_type": "markdown",
      "source": [
        "**Load and Preprocess the Images:**\n"
      ],
      "metadata": {
        "id": "koOaJda4bNYm"
      }
    },
    {
      "cell_type": "code",
      "source": [
        "import os\n",
        "import numpy as np\n",
        "from tensorflow.keras.preprocessing import image\n",
        "from concurrent.futures import ThreadPoolExecutor\n",
        "\n",
        "# Define image directory path (adjust it to your actual image directory)\n",
        "image_directory = \"/content/drive/MyDrive/data/img\"  # Modify as needed\n",
        "\n",
        "# Get list of image paths in the directory\n",
        "image_paths = [os.path.join(image_directory, fname) for fname in os.listdir(image_directory) if fname.endswith('.png')]\n",
        "\n",
        "# Function to load and preprocess an image\n",
        "def preprocess_image(img_path, target_size=(224, 224)):\n",
        "    if not os.path.exists(img_path):\n",
        "        print(f\"File not found: {img_path}\")  # Debugging if the file is not found\n",
        "        return None  # Return None if image file doesn't exist\n",
        "    img = image.load_img(img_path, target_size=target_size)\n",
        "    img_array = image.img_to_array(img) / 255.0  # Normalize pixel values to [0, 1]\n",
        "    return img_array\n",
        "\n",
        "# Parallelize the image processing with ThreadPoolExecutor\n",
        "def process_images_parallel(image_paths, num_workers=4):\n",
        "    with ThreadPoolExecutor(max_workers=num_workers) as executor:\n",
        "        image_data = list(executor.map(preprocess_image, image_paths))\n",
        "    # Filter out None values\n",
        "    return [img for img in image_data if img is not None]\n",
        "\n",
        "# Process the images in parallel (use more workers if needed)\n",
        "image_data = process_images_parallel(image_paths, num_workers=4)\n",
        "\n",
        "# Now `image_data` contains all the preprocessed images (images that exist and are successfully loaded)\n",
        "print(f\"Processed {len(image_data)} images.\")\n"
      ],
      "metadata": {
        "colab": {
          "base_uri": "https://localhost:8080/"
        },
        "id": "tIpBPnYnbLaK",
        "outputId": "08eab9d9-1d09-4e1f-b53a-b11dcc4cd3a1"
      },
      "execution_count": null,
      "outputs": [
        {
          "output_type": "stream",
          "name": "stdout",
          "text": [
            "Processed 9260 images.\n"
          ]
        }
      ]
    },
    {
      "cell_type": "markdown",
      "source": [
        "**Obtain GloVe Embeddings for the Text:**"
      ],
      "metadata": {
        "id": "aew20bbZbaba"
      }
    },
    {
      "cell_type": "code",
      "source": [
        "import numpy as np\n",
        "import spacy\n",
        "\n",
        "# Load GloVe embeddings (assuming you have the glove.6B.50d.txt file already)\n",
        "glove_file = '/content/drive/MyDrive/glove.6B.50d.txt'  # Path to your GloVe file\n",
        "glove_embeddings = {}\n",
        "\n",
        "# Load GloVe into a dictionary\n",
        "with open(glove_file, 'r', encoding='utf-8') as f:\n",
        "    for line in f:\n",
        "        values = line.split()\n",
        "        word = values[0]\n",
        "        vector = np.asarray(values[1:], dtype='float32')\n",
        "        glove_embeddings[word] = vector\n",
        "\n",
        "print(\"Loaded GloVe embeddings.\")\n",
        "\n",
        "# Load Spacy model for text preprocessing\n",
        "nlp = spacy.load(\"en_core_web_sm\")\n",
        "\n",
        "# Function to preprocess and convert text to GloVe vector\n",
        "def text_to_glove_vector(text, glove_embeddings, model=nlp):\n",
        "    # Tokenize and preprocess the text (lemmatization, removing stop words, punctuation)\n",
        "    doc = model(text)\n",
        "    vectors = []\n",
        "\n",
        "    for token in doc:\n",
        "        if token.text in glove_embeddings:  # Check if word is in GloVe\n",
        "            vectors.append(glove_embeddings[token.text])\n",
        "\n",
        "    if len(vectors) == 0:\n",
        "        return np.zeros(50)  # Return a zero vector if no words match in GloVe\n",
        "\n",
        "    # Average the vectors to create a single vector representation of the text\n",
        "    return np.mean(vectors, axis=0)\n",
        "\n",
        "# Example usage\n",
        "texts = [\"This is an example caption.\", \"Another example caption for meme.\"]\n",
        "glove_vectors = []\n",
        "\n",
        "for text in texts:\n",
        "    glove_vectors.append(text_to_glove_vector(text, glove_embeddings))\n",
        "\n",
        "# Now `glove_vectors` contains the 50-dimensional GloVe vectors for each text in `texts`\n",
        "print(\"GloVe vectors obtained for texts.\")\n"
      ],
      "metadata": {
        "colab": {
          "base_uri": "https://localhost:8080/"
        },
        "id": "d4JWdqo_bZOo",
        "outputId": "1f4ead04-cee2-40d0-9746-019fdcb6efa2"
      },
      "execution_count": null,
      "outputs": [
        {
          "output_type": "stream",
          "name": "stdout",
          "text": [
            "Loaded GloVe embeddings.\n",
            "GloVe vectors obtained for texts.\n"
          ]
        }
      ]
    },
    {
      "cell_type": "code",
      "source": [
        "# Function to convert preprocessed text to its GloVe embedding vector\n",
        "def text_to_glove_vector(text, glove_model, embedding_dim=50):\n",
        "    tokens = text.split()  # Split text into words (since it's already lemmatized)\n",
        "    vector = np.zeros(embedding_dim)  # Initialize the vector with zeros\n",
        "\n",
        "    valid_tokens = 0  # To track how many valid tokens we have\n",
        "    for token in tokens:\n",
        "        if token in glove_model:\n",
        "            vector += glove_model[token]\n",
        "            valid_tokens += 1\n",
        "\n",
        "    if valid_tokens > 0:\n",
        "        vector /= valid_tokens  # Average the vectors of all valid tokens\n",
        "\n",
        "    return vector\n",
        "\n",
        "# Now obtain the GloVe vectors for all the preprocessed texts\n",
        "glove_vectors = []\n",
        "for text in processed_texts:\n",
        "    glove_vectors.append(text_to_glove_vector(text, glove_embeddings))\n",
        "\n",
        "print(\"GloVe vectors obtained for all preprocessed texts.\")\n"
      ],
      "metadata": {
        "colab": {
          "base_uri": "https://localhost:8080/"
        },
        "id": "7z4QMMdMfRJd",
        "outputId": "6e7700c4-5192-47ce-cdaa-77785a2e6006"
      },
      "execution_count": null,
      "outputs": [
        {
          "output_type": "stream",
          "name": "stdout",
          "text": [
            "GloVe vectors obtained for all preprocessed texts.\n"
          ]
        }
      ]
    },
    {
      "cell_type": "code",
      "source": [
        "import numpy as np\n",
        "from tensorflow.keras import layers, models\n",
        "\n",
        "# Convert image_data (list) to a NumPy array\n",
        "image_data_np = np.array(image_data)\n",
        "\n",
        "# Flatten the image data\n",
        "image_data_flat = image_data_np.reshape(image_data_np.shape[0], -1)  # Flatten the image data\n",
        "\n",
        "# Convert glove_vectors to a NumPy array\n",
        "glove_vectors_np = np.array(glove_vectors)\n",
        "\n",
        "# Input layer for image data (Flattened images)\n",
        "image_input = layers.Input(shape=(image_data_flat.shape[1],))  # Flattened image data\n",
        "\n",
        "# Input layer for text data (GloVe embeddings)\n",
        "text_input = layers.Input(shape=(glove_vectors_np.shape[1],))  # GloVe vector for text\n",
        "\n",
        "# Concatenate image and text data (Early Fusion)\n",
        "combined_input = layers.concatenate([image_input, text_input])\n",
        "\n",
        "# Fully connected layers after fusion\n",
        "x = layers.Dense(512, activation='relu')(combined_input)\n",
        "x = layers.Dense(256, activation='relu')(x)\n",
        "\n",
        "# Final output layer\n",
        "output = layers.Dense(1, activation='sigmoid')(x)\n",
        "\n",
        "# Create the model\n",
        "model_early = models.Model(inputs=[image_input, text_input], outputs=output)\n",
        "\n",
        "# Compile the model\n",
        "model_early.compile(optimizer='adam', loss='binary_crossentropy', metrics=['accuracy'])\n",
        "\n",
        "# Summary of the model\n",
        "model_early.summary()\n"
      ],
      "metadata": {
        "colab": {
          "base_uri": "https://localhost:8080/"
        },
        "id": "_gNWdY_MfVbB",
        "outputId": "5853d5ce-35f4-40a6-f00b-4046a280f53a"
      },
      "execution_count": null,
      "outputs": [
        {
          "output_type": "stream",
          "name": "stdout",
          "text": [
            "Model: \"model\"\n",
            "__________________________________________________________________________________________________\n",
            " Layer (type)                Output Shape                 Param #   Connected to                  \n",
            "==================================================================================================\n",
            " input_1 (InputLayer)        [(None, 150528)]             0         []                            \n",
            "                                                                                                  \n",
            " input_2 (InputLayer)        [(None, 50)]                 0         []                            \n",
            "                                                                                                  \n",
            " concatenate (Concatenate)   (None, 150578)               0         ['input_1[0][0]',             \n",
            "                                                                     'input_2[0][0]']             \n",
            "                                                                                                  \n",
            " dense (Dense)               (None, 512)                  7709644   ['concatenate[0][0]']         \n",
            "                                                          8                                       \n",
            "                                                                                                  \n",
            " dense_1 (Dense)             (None, 256)                  131328    ['dense[0][0]']               \n",
            "                                                                                                  \n",
            " dense_2 (Dense)             (None, 1)                    257       ['dense_1[0][0]']             \n",
            "                                                                                                  \n",
            "==================================================================================================\n",
            "Total params: 77228033 (294.60 MB)\n",
            "Trainable params: 77228033 (294.60 MB)\n",
            "Non-trainable params: 0 (0.00 Byte)\n",
            "__________________________________________________________________________________________________\n"
          ]
        }
      ]
    },
    {
      "cell_type": "code",
      "source": [
        "import pandas as pd\n",
        "\n",
        "# Load the training data\n",
        "df_train = pd.read_json('/content/drive/MyDrive/data/train.jsonl', lines=True)\n",
        "\n",
        "# Load the test data\n",
        "df_test = pd.read_json('/content/drive/MyDrive/data/test.jsonl', lines=True)\n",
        "\n",
        "# Check the first few rows of the dataset\n",
        "print(df_train.head())\n",
        "print(df_test.head())\n"
      ],
      "metadata": {
        "colab": {
          "base_uri": "https://localhost:8080/"
        },
        "id": "TBcqpmAShAUl",
        "outputId": "bc92ed46-fa32-4bb8-8736-cfd44deb7527"
      },
      "execution_count": null,
      "outputs": [
        {
          "output_type": "stream",
          "name": "stdout",
          "text": [
            "      id            img  label  \\\n",
            "0  42953  img/42953.png      0   \n",
            "1  23058  img/23058.png      0   \n",
            "2  13894  img/13894.png      0   \n",
            "3  37408  img/37408.png      0   \n",
            "4  82403  img/82403.png      0   \n",
            "\n",
            "                                                text  \n",
            "0   its their character not their color that matters  \n",
            "1  don't be afraid to love again everyone is not ...  \n",
            "2                           putting bows on your pet  \n",
            "3  i love everything and everybody! except for sq...  \n",
            "4  everybody loves chocolate chip cookies, even h...  \n",
            "      id            img                                         text\n",
            "0  16395  img/16395.png                     handjobs sold seperately\n",
            "1  37405  img/37405.png         introducing fidget spinner for women\n",
            "2  94180  img/94180.png  happy pride month let's go beat up lesbians\n",
            "3  54321  img/54321.png       laughs in [majority of u.s crime rate]\n",
            "4  97015  img/97015.png       finds out those 72 virgins.. are goats\n"
          ]
        }
      ]
    },
    {
      "cell_type": "code",
      "source": [
        "# Extract labels for training\n",
        "y_train = df_train['label'].values\n",
        "\n",
        "# Extract image paths and text for training\n",
        "image_paths_train = df_train['img'].values\n",
        "texts_train = df_train['text'].values\n",
        "\n",
        "# Check if the label extraction works\n",
        "print(f\"Labels: {y_train[:5]}\")\n"
      ],
      "metadata": {
        "colab": {
          "base_uri": "https://localhost:8080/"
        },
        "id": "AjSeakKZgyac",
        "outputId": "7460188c-ed57-450b-b37e-25c49ba78f93"
      },
      "execution_count": null,
      "outputs": [
        {
          "output_type": "stream",
          "name": "stdout",
          "text": [
            "Labels: [0 0 0 0 0]\n"
          ]
        }
      ]
    },
    {
      "cell_type": "code",
      "source": [
        "import numpy as np\n",
        "from sklearn.model_selection import train_test_split\n",
        "\n",
        "# Convert the lists to NumPy arrays\n",
        "image_data = np.array(image_data[:8500])  # Make sure the number of images matches the glove_vectors\n",
        "glove_vectors = np.array(glove_vectors[:8500])  # Similarly, reduce glove_vectors if needed\n",
        "valid_labels = np.array(valid_labels[:8500])  # Ensure valid_labels matches the image and glove_vectors length\n",
        "\n",
        "# Now split the data\n",
        "X_images_train, X_images_test, X_glove_train, X_glove_test, y_train, y_test = train_test_split(\n",
        "    image_data, glove_vectors, valid_labels, test_size=0.2, random_state=42)\n",
        "\n",
        "# Check the shapes of the split data\n",
        "print(f\"Training image data shape: {X_images_train.shape}\")\n",
        "print(f\"Test image data shape: {X_images_test.shape}\")\n",
        "print(f\"Training GloVe vectors shape: {X_glove_train.shape}\")\n",
        "print(f\"Test GloVe vectors shape: {X_glove_test.shape}\")\n",
        "print(f\"Training labels shape: {y_train.shape}\")\n",
        "print(f\"Test labels shape: {y_test.shape}\")\n"
      ],
      "metadata": {
        "colab": {
          "base_uri": "https://localhost:8080/"
        },
        "id": "h9IniOsMgOUC",
        "outputId": "fd684371-efc8-474a-c469-5e7be18f4b08"
      },
      "execution_count": null,
      "outputs": [
        {
          "output_type": "stream",
          "name": "stdout",
          "text": [
            "Training image data shape: (6800, 224, 224, 3)\n",
            "Test image data shape: (1700, 224, 224, 3)\n",
            "Training GloVe vectors shape: (6800, 50)\n",
            "Test GloVe vectors shape: (1700, 50)\n",
            "Training labels shape: (6800,)\n",
            "Test labels shape: (1700,)\n"
          ]
        }
      ]
    },
    {
      "cell_type": "markdown",
      "source": [
        "**TEXT MODEL**"
      ],
      "metadata": {
        "id": "m8LANZFJjH93"
      }
    },
    {
      "cell_type": "code",
      "source": [
        "import tensorflow as tf\n",
        "from tensorflow.keras.layers import Embedding, LSTM, Dense, GlobalAveragePooling1D\n",
        "from tensorflow.keras.models import Sequential\n",
        "from tensorflow.keras.preprocessing.text import Tokenizer\n",
        "from tensorflow.keras.preprocessing.sequence import pad_sequences\n",
        "\n",
        "# Text preprocessing\n",
        "vocab_size = 10000  # Assuming a vocabulary size\n",
        "embedding_dim = 128\n",
        "max_length = 100\n",
        "\n",
        "tokenizer = Tokenizer(num_words=vocab_size, oov_token=\"<OOV>\")\n",
        "# Fit tokenizer on your text data and convert to sequences\n",
        "# tokenizer.fit_on_texts(text_data) # Example text data\n",
        "# sequences = tokenizer.texts_to_sequences(text_data)\n",
        "# padded_sequences = pad_sequences(sequences, maxlen=max_length)\n",
        "\n",
        "# Text model definition\n",
        "text_model = Sequential([\n",
        "    Embedding(input_dim=vocab_size, output_dim=embedding_dim, input_length=max_length),\n",
        "    LSTM(64),\n",
        "    Dense(32, activation='relu'),\n",
        "    Dense(1, activation='sigmoid')\n",
        "])\n",
        "\n",
        "text_model.compile(loss='binary_crossentropy', optimizer='adam', metrics=['accuracy'])\n",
        "\n",
        "# Training the text model\n",
        "# text_model.fit(padded_sequences, labels, epochs=10, validation_data=(val_padded_sequences, val_labels))\n"
      ],
      "metadata": {
        "id": "ZMF51ZDbjHco"
      },
      "execution_count": null,
      "outputs": []
    },
    {
      "cell_type": "markdown",
      "source": [
        "**IMAGE MODEL**"
      ],
      "metadata": {
        "id": "_6ssNzLYjMO_"
      }
    },
    {
      "cell_type": "code",
      "source": [
        "from tensorflow.keras.applications import VGG16\n",
        "from tensorflow.keras.layers import Flatten, Dense, Dropout\n",
        "from tensorflow.keras.models import Model\n",
        "from tensorflow.keras.preprocessing.image import ImageDataGenerator\n",
        "\n",
        "# Load pre-trained VGG16 model for feature extraction\n",
        "base_model = VGG16(weights='imagenet', include_top=False, input_shape=(224, 224, 3))\n",
        "\n",
        "# Freeze base model layers\n",
        "for layer in base_model.layers:\n",
        "    layer.trainable = False\n",
        "\n",
        "# Add custom layers on top\n",
        "x = Flatten()(base_model.output)\n",
        "x = Dense(256, activation='relu')(x)\n",
        "x = Dropout(0.5)(x)\n",
        "output = Dense(1, activation='sigmoid')(x)\n",
        "\n",
        "image_model = Model(inputs=base_model.input, outputs=output)\n",
        "\n",
        "image_model.compile(optimizer='adam', loss='binary_crossentropy', metrics=['accuracy'])\n",
        "\n",
        "# Training the image model\n",
        "# Use ImageDataGenerator for image preprocessing if needed\n",
        "# image_model.fit(train_images, train_labels, epochs=10, validation_data=(val_images, val_labels))\n"
      ],
      "metadata": {
        "id": "2_hedKlIjLhz"
      },
      "execution_count": null,
      "outputs": []
    },
    {
      "cell_type": "markdown",
      "source": [
        "**EARLY FUSION**"
      ],
      "metadata": {
        "id": "6X3VdmlxiPv9"
      }
    },
    {
      "cell_type": "code",
      "source": [
        "import tensorflow as tf\n",
        "from tensorflow.keras import layers, models\n",
        "\n",
        "# Define image input layer\n",
        "image_input = layers.Input(shape=(224, 224, 3))  # Image input shape\n",
        "\n",
        "# Define a simple CNN for image feature extraction\n",
        "x_image = layers.Conv2D(32, (3, 3), activation='relu')(image_input)\n",
        "x_image = layers.MaxPooling2D((2, 2))(x_image)\n",
        "x_image = layers.Conv2D(64, (3, 3), activation='relu')(x_image)\n",
        "x_image = layers.MaxPooling2D((2, 2))(x_image)\n",
        "x_image = layers.Flatten()(x_image)\n",
        "\n",
        "# Define text input layer (GloVe vectors)\n",
        "text_input = layers.Input(shape=(50,))  # GloVe vector size (50)\n",
        "\n",
        "# Early fusion: concatenate image features and text features\n",
        "combined = layers.concatenate([x_image, text_input])\n",
        "\n",
        "# Add fully connected layers after fusion\n",
        "x = layers.Dense(512, activation='relu')(combined)\n",
        "x = layers.Dense(256, activation='relu')(x)\n",
        "\n",
        "# Final output layer (binary classification)\n",
        "output = layers.Dense(1, activation='sigmoid')(x)\n",
        "\n",
        "# Create and compile the model\n",
        "model = models.Model(inputs=[image_input, text_input], outputs=output)\n",
        "model.compile(optimizer='adam', loss='binary_crossentropy', metrics=['accuracy'])\n",
        "\n",
        "# Display the model summary\n",
        "model.summary()\n",
        "\n",
        "# Train the model\n",
        "history = model.fit(\n",
        "    [X_images_train, X_glove_train],  # Input: images and GloVe vectors\n",
        "    y_train,  # Output: labels\n",
        "    validation_data=([X_images_test, X_glove_test], y_test),\n",
        "    epochs=10,  # Set number of epochs as needed\n",
        "    batch_size=32  # Set batch size as needed\n",
        ")\n",
        "\n",
        "# Evaluate the model on the test data\n",
        "test_loss, test_acc = model.evaluate([X_images_test, X_glove_test], y_test)\n",
        "print(f\"Test accuracy: {test_acc}\")\n"
      ],
      "metadata": {
        "colab": {
          "base_uri": "https://localhost:8080/"
        },
        "id": "FUCGnpGNgZjf",
        "outputId": "6aaacf36-ab93-4d2e-8635-12c343c055da"
      },
      "execution_count": null,
      "outputs": [
        {
          "output_type": "stream",
          "name": "stdout",
          "text": [
            "Model: \"model_6\"\n",
            "__________________________________________________________________________________________________\n",
            " Layer (type)                Output Shape                 Param #   Connected to                  \n",
            "==================================================================================================\n",
            " input_9 (InputLayer)        [(None, 224, 224, 3)]        0         []                            \n",
            "                                                                                                  \n",
            " conv2d_7 (Conv2D)           (None, 222, 222, 32)         896       ['input_9[0][0]']             \n",
            "                                                                                                  \n",
            " max_pooling2d_6 (MaxPoolin  (None, 111, 111, 32)         0         ['conv2d_7[0][0]']            \n",
            " g2D)                                                                                             \n",
            "                                                                                                  \n",
            " conv2d_8 (Conv2D)           (None, 109, 109, 64)         18496     ['max_pooling2d_6[0][0]']     \n",
            "                                                                                                  \n",
            " max_pooling2d_7 (MaxPoolin  (None, 54, 54, 64)           0         ['conv2d_8[0][0]']            \n",
            " g2D)                                                                                             \n",
            "                                                                                                  \n",
            " flatten_2 (Flatten)         (None, 186624)               0         ['max_pooling2d_7[0][0]']     \n",
            "                                                                                                  \n",
            " input_10 (InputLayer)       [(None, 50)]                 0         []                            \n",
            "                                                                                                  \n",
            " concatenate_4 (Concatenate  (None, 186674)               0         ['flatten_2[0][0]',           \n",
            " )                                                                   'input_10[0][0]']            \n",
            "                                                                                                  \n",
            " dense_14 (Dense)            (None, 512)                  9557760   ['concatenate_4[0][0]']       \n",
            "                                                          0                                       \n",
            "                                                                                                  \n",
            " dense_15 (Dense)            (None, 256)                  131328    ['dense_14[0][0]']            \n",
            "                                                                                                  \n",
            " dense_16 (Dense)            (None, 1)                    257       ['dense_15[0][0]']            \n",
            "                                                                                                  \n",
            "==================================================================================================\n",
            "Total params: 95728577 (365.18 MB)\n",
            "Trainable params: 95728577 (365.18 MB)\n",
            "Non-trainable params: 0 (0.00 Byte)\n",
            "__________________________________________________________________________________________________\n",
            "Epoch 1/10\n",
            "213/213 [==============================] - 130s 604ms/step - loss: 0.8251 - accuracy: 0.6303 - val_loss: 0.6394 - val_accuracy: 0.6394\n",
            "Epoch 2/10\n",
            "213/213 [==============================] - 127s 597ms/step - loss: 0.5984 - accuracy: 0.6841 - val_loss: 0.6325 - val_accuracy: 0.6447\n",
            "Epoch 3/10\n",
            "213/213 [==============================] - 126s 593ms/step - loss: 0.4000 - accuracy: 0.8194 - val_loss: 0.8027 - val_accuracy: 0.6118\n",
            "Epoch 4/10\n",
            "213/213 [==============================] - 128s 599ms/step - loss: 0.1865 - accuracy: 0.9296 - val_loss: 1.2311 - val_accuracy: 0.6082\n",
            "Epoch 5/10\n",
            "213/213 [==============================] - 127s 595ms/step - loss: 0.0790 - accuracy: 0.9762 - val_loss: 1.5848 - val_accuracy: 0.6018\n",
            "Epoch 6/10\n",
            "213/213 [==============================] - 127s 597ms/step - loss: 0.0336 - accuracy: 0.9904 - val_loss: 1.8139 - val_accuracy: 0.6088\n",
            "Epoch 7/10\n",
            "213/213 [==============================] - 127s 598ms/step - loss: 0.0194 - accuracy: 0.9943 - val_loss: 2.3982 - val_accuracy: 0.6182\n",
            "Epoch 8/10\n",
            "213/213 [==============================] - 127s 597ms/step - loss: 0.0089 - accuracy: 0.9979 - val_loss: 2.6369 - val_accuracy: 0.5982\n",
            "Epoch 9/10\n",
            "213/213 [==============================] - 127s 596ms/step - loss: 0.0034 - accuracy: 0.9988 - val_loss: 3.0073 - val_accuracy: 0.6059\n",
            "Epoch 10/10\n",
            "213/213 [==============================] - 126s 594ms/step - loss: 7.5938e-04 - accuracy: 0.9997 - val_loss: 2.8076 - val_accuracy: 0.6029\n",
            "54/54 [==============================] - 4s 76ms/step - loss: 2.8076 - accuracy: 0.6029\n",
            "Test accuracy: 0.6029411554336548\n"
          ]
        }
      ]
    },
    {
      "cell_type": "markdown",
      "source": [
        "HYBRID FUSION"
      ],
      "metadata": {
        "id": "Z2AWD_Vyo8TL"
      }
    },
    {
      "cell_type": "code",
      "source": [
        "import tensorflow as tf\n",
        "from tensorflow.keras import layers, models, Input\n",
        "\n",
        "# Image model branch\n",
        "def create_image_model(input_shape):\n",
        "    image_input = Input(shape=input_shape)\n",
        "    x = layers.Conv2D(32, (3, 3), activation='relu')(image_input)\n",
        "    x = layers.MaxPooling2D((2, 2))(x)\n",
        "    x = layers.Conv2D(64, (3, 3), activation='relu')(x)\n",
        "    x = layers.MaxPooling2D((2, 2))(x)\n",
        "    x = layers.Conv2D(128, (3, 3), activation='relu')(x)\n",
        "    x = layers.GlobalAveragePooling2D()(x)\n",
        "    return models.Model(image_input, x)\n",
        "\n",
        "# Text model branch\n",
        "def create_text_model(input_shape):\n",
        "    text_input = Input(shape=input_shape)\n",
        "    x = layers.Dense(128, activation='relu')(text_input)\n",
        "    x = layers.Dense(64, activation='relu')(x)\n",
        "    return models.Model(text_input, x)\n",
        "\n",
        "# Combine image and text models (Middle Fusion)\n",
        "image_shape = (224, 224, 3)  # Adjust for your image input size\n",
        "text_shape = (50,)  # Adjust for your GloVe vector size\n",
        "\n",
        "image_model = create_image_model(image_shape)\n",
        "text_model = create_text_model(text_shape)\n",
        "\n",
        "# The middle fusion step: Flatten and concatenate features before the dense layers\n",
        "image_features = layers.Flatten()(image_model.output)\n",
        "text_features = layers.Flatten()(text_model.output)\n",
        "\n",
        "# Combine features from both image and text at the \"middle\" stage\n",
        "combined_features = layers.concatenate([image_features, text_features])\n",
        "\n",
        "# Further fully connected layers\n",
        "x = layers.Dense(128, activation='relu')(combined_features)\n",
        "x = layers.Dense(64, activation='relu')(x)\n",
        "\n",
        "# Final output layer\n",
        "output = layers.Dense(1, activation='sigmoid')(x)  # Sigmoid for binary classification\n",
        "\n",
        "# Define the final model\n",
        "model = models.Model(inputs=[image_model.input, text_model.input], outputs=output)\n",
        "\n",
        "# Compile the model\n",
        "model.compile(optimizer='adam', loss='binary_crossentropy', metrics=['accuracy'])\n",
        "\n",
        "# Model summary\n",
        "model.summary()\n",
        "\n",
        "# Train the model\n",
        "history = model.fit(\n",
        "    [X_images_train, X_glove_train], y_train,\n",
        "    validation_data=([X_images_test, X_glove_test], y_test),\n",
        "    epochs=10,\n",
        "    batch_size=32\n",
        ")\n"
      ],
      "metadata": {
        "colab": {
          "base_uri": "https://localhost:8080/"
        },
        "id": "kZrSs14miSTy",
        "outputId": "15ca7099-cb5a-4fc6-9003-ae9cbbbe9b81"
      },
      "execution_count": null,
      "outputs": [
        {
          "output_type": "stream",
          "name": "stdout",
          "text": [
            "Model: \"model_9\"\n",
            "__________________________________________________________________________________________________\n",
            " Layer (type)                Output Shape                 Param #   Connected to                  \n",
            "==================================================================================================\n",
            " input_11 (InputLayer)       [(None, 224, 224, 3)]        0         []                            \n",
            "                                                                                                  \n",
            " conv2d_9 (Conv2D)           (None, 222, 222, 32)         896       ['input_11[0][0]']            \n",
            "                                                                                                  \n",
            " max_pooling2d_8 (MaxPoolin  (None, 111, 111, 32)         0         ['conv2d_9[0][0]']            \n",
            " g2D)                                                                                             \n",
            "                                                                                                  \n",
            " conv2d_10 (Conv2D)          (None, 109, 109, 64)         18496     ['max_pooling2d_8[0][0]']     \n",
            "                                                                                                  \n",
            " max_pooling2d_9 (MaxPoolin  (None, 54, 54, 64)           0         ['conv2d_10[0][0]']           \n",
            " g2D)                                                                                             \n",
            "                                                                                                  \n",
            " input_12 (InputLayer)       [(None, 50)]                 0         []                            \n",
            "                                                                                                  \n",
            " conv2d_11 (Conv2D)          (None, 52, 52, 128)          73856     ['max_pooling2d_9[0][0]']     \n",
            "                                                                                                  \n",
            " dense_17 (Dense)            (None, 128)                  6528      ['input_12[0][0]']            \n",
            "                                                                                                  \n",
            " global_average_pooling2d_1  (None, 128)                  0         ['conv2d_11[0][0]']           \n",
            "  (GlobalAveragePooling2D)                                                                        \n",
            "                                                                                                  \n",
            " dense_18 (Dense)            (None, 64)                   8256      ['dense_17[0][0]']            \n",
            "                                                                                                  \n",
            " flatten_3 (Flatten)         (None, 128)                  0         ['global_average_pooling2d_1[0\n",
            "                                                                    ][0]']                        \n",
            "                                                                                                  \n",
            " flatten_4 (Flatten)         (None, 64)                   0         ['dense_18[0][0]']            \n",
            "                                                                                                  \n",
            " concatenate_5 (Concatenate  (None, 192)                  0         ['flatten_3[0][0]',           \n",
            " )                                                                   'flatten_4[0][0]']           \n",
            "                                                                                                  \n",
            " dense_19 (Dense)            (None, 128)                  24704     ['concatenate_5[0][0]']       \n",
            "                                                                                                  \n",
            " dense_20 (Dense)            (None, 64)                   8256      ['dense_19[0][0]']            \n",
            "                                                                                                  \n",
            " dense_21 (Dense)            (None, 1)                    65        ['dense_20[0][0]']            \n",
            "                                                                                                  \n",
            "==================================================================================================\n",
            "Total params: 141057 (551.00 KB)\n",
            "Trainable params: 141057 (551.00 KB)\n",
            "Non-trainable params: 0 (0.00 Byte)\n",
            "__________________________________________________________________________________________________\n",
            "Epoch 1/10\n",
            "213/213 [==============================] - 87s 396ms/step - loss: 0.6360 - accuracy: 0.6506 - val_loss: 0.6281 - val_accuracy: 0.6594\n",
            "Epoch 2/10\n",
            "213/213 [==============================] - 81s 379ms/step - loss: 0.6168 - accuracy: 0.6665 - val_loss: 0.6173 - val_accuracy: 0.6647\n",
            "Epoch 3/10\n",
            "213/213 [==============================] - 80s 377ms/step - loss: 0.6135 - accuracy: 0.6740 - val_loss: 0.6266 - val_accuracy: 0.6606\n",
            "Epoch 4/10\n",
            "213/213 [==============================] - 80s 378ms/step - loss: 0.6023 - accuracy: 0.6847 - val_loss: 0.6085 - val_accuracy: 0.6782\n",
            "Epoch 5/10\n",
            "213/213 [==============================] - 81s 379ms/step - loss: 0.6005 - accuracy: 0.6838 - val_loss: 0.6097 - val_accuracy: 0.6706\n",
            "Epoch 6/10\n",
            "213/213 [==============================] - 81s 379ms/step - loss: 0.5937 - accuracy: 0.6893 - val_loss: 0.6113 - val_accuracy: 0.6735\n",
            "Epoch 7/10\n",
            "213/213 [==============================] - 80s 376ms/step - loss: 0.5850 - accuracy: 0.6949 - val_loss: 0.6187 - val_accuracy: 0.6771\n",
            "Epoch 8/10\n",
            "213/213 [==============================] - 80s 376ms/step - loss: 0.5828 - accuracy: 0.6982 - val_loss: 0.6180 - val_accuracy: 0.6724\n",
            "Epoch 9/10\n",
            "213/213 [==============================] - 80s 376ms/step - loss: 0.5714 - accuracy: 0.7049 - val_loss: 0.6120 - val_accuracy: 0.6724\n",
            "Epoch 10/10\n",
            "213/213 [==============================] - 80s 378ms/step - loss: 0.5685 - accuracy: 0.7025 - val_loss: 0.6169 - val_accuracy: 0.6724\n"
          ]
        }
      ]
    },
    {
      "cell_type": "markdown",
      "source": [
        "**LATE FUSION**"
      ],
      "metadata": {
        "id": "iAhqjMhjvDvV"
      }
    },
    {
      "cell_type": "code",
      "source": [
        "# Image model branch\n",
        "image_input = Input(shape=image_shape)\n",
        "x_image = layers.Conv2D(32, (3, 3), activation='relu')(image_input)\n",
        "x_image = layers.MaxPooling2D((2, 2))(x_image)\n",
        "x_image = layers.Conv2D(64, (3, 3), activation='relu')(x_image)\n",
        "x_image = layers.MaxPooling2D((2, 2))(x_image)\n",
        "x_image = layers.Conv2D(128, (3, 3), activation='relu')(x_image)\n",
        "x_image = layers.GlobalAveragePooling2D()(x_image)\n",
        "\n",
        "# Text model branch\n",
        "text_input = Input(shape=text_shape)\n",
        "x_text = layers.Dense(128, activation='relu')(text_input)\n",
        "x_text = layers.Dense(64, activation='relu')(x_text)\n",
        "\n",
        "# Combine image and text outputs at the final stage\n",
        "combined_output = layers.concatenate([x_image, x_text])\n",
        "x = layers.Dense(64, activation='relu')(combined_output)\n",
        "x = layers.Dense(16, activation='relu')(x)\n",
        "output = layers.Dense(1, activation='sigmoid')(x)\n",
        "\n",
        "# Define the final model\n",
        "late_fusion_model = models.Model(inputs=[image_input, text_input], outputs=output)\n",
        "\n",
        "# Compile the model\n",
        "late_fusion_model.compile(optimizer='adam', loss='binary_crossentropy', metrics=['accuracy'])\n",
        "\n",
        "# Train the model\n",
        "history = late_fusion_model.fit(\n",
        "    [X_images_train, X_glove_train], y_train,\n",
        "    validation_data=([X_images_test, X_glove_test], y_test),\n",
        "    epochs=10,\n",
        "    batch_size=32\n",
        ")\n"
      ],
      "metadata": {
        "colab": {
          "base_uri": "https://localhost:8080/"
        },
        "id": "1M6y8VQ7o-kI",
        "outputId": "4068cfa5-bd26-46b8-b751-f4c9975d17f2"
      },
      "execution_count": null,
      "outputs": [
        {
          "output_type": "stream",
          "name": "stdout",
          "text": [
            "Epoch 1/10\n",
            "213/213 [==============================] - 84s 389ms/step - loss: 0.6366 - accuracy: 0.6499 - val_loss: 0.6197 - val_accuracy: 0.6671\n",
            "Epoch 2/10\n",
            "213/213 [==============================] - 81s 379ms/step - loss: 0.6225 - accuracy: 0.6638 - val_loss: 0.6155 - val_accuracy: 0.6788\n",
            "Epoch 3/10\n",
            "213/213 [==============================] - 81s 382ms/step - loss: 0.6099 - accuracy: 0.6756 - val_loss: 0.6121 - val_accuracy: 0.6729\n",
            "Epoch 4/10\n",
            "213/213 [==============================] - 82s 384ms/step - loss: 0.6051 - accuracy: 0.6766 - val_loss: 0.6092 - val_accuracy: 0.6700\n",
            "Epoch 5/10\n",
            "213/213 [==============================] - 81s 382ms/step - loss: 0.5974 - accuracy: 0.6846 - val_loss: 0.6078 - val_accuracy: 0.6724\n",
            "Epoch 6/10\n",
            "213/213 [==============================] - 81s 383ms/step - loss: 0.5916 - accuracy: 0.6854 - val_loss: 0.6055 - val_accuracy: 0.6788\n",
            "Epoch 7/10\n",
            "213/213 [==============================] - 81s 381ms/step - loss: 0.5872 - accuracy: 0.6890 - val_loss: 0.6134 - val_accuracy: 0.6718\n",
            "Epoch 8/10\n",
            "213/213 [==============================] - 80s 376ms/step - loss: 0.5791 - accuracy: 0.6966 - val_loss: 0.6102 - val_accuracy: 0.6829\n",
            "Epoch 9/10\n",
            "213/213 [==============================] - 81s 378ms/step - loss: 0.5718 - accuracy: 0.7010 - val_loss: 0.6190 - val_accuracy: 0.6724\n",
            "Epoch 10/10\n",
            "213/213 [==============================] - 80s 376ms/step - loss: 0.5692 - accuracy: 0.7034 - val_loss: 0.6440 - val_accuracy: 0.6618\n"
          ]
        }
      ]
    },
    {
      "cell_type": "markdown",
      "source": [
        "**EVALUATIONS**"
      ],
      "metadata": {
        "id": "q0B3zzXCzTx6"
      }
    },
    {
      "cell_type": "code",
      "source": [
        "# Assuming the image model expects flattened input:\n",
        "def flatten_image_input(X_images):\n",
        "    # Flatten the image input to match the shape expected by the model\n",
        "    return X_images.reshape(X_images.shape[0], -1)\n",
        "\n",
        "# Flatten the test images before passing them to the model\n",
        "X_images_test_flattened = flatten_image_input(X_images_test)\n",
        "\n",
        "# Now make predictions with the flattened images\n",
        "early_fusion_predictions = model_early.predict([X_images_test_flattened, X_glove_test])\n",
        "early_fusion_predictions = (early_fusion_predictions > 0.5).astype(int)\n"
      ],
      "metadata": {
        "colab": {
          "base_uri": "https://localhost:8080/"
        },
        "id": "xGCsa_U2vG0o",
        "outputId": "83ced35a-cfc8-48d4-cb1f-7ac91debbd5c"
      },
      "execution_count": null,
      "outputs": [
        {
          "output_type": "stream",
          "name": "stdout",
          "text": [
            "54/54 [==============================] - 1s 12ms/step\n"
          ]
        }
      ]
    },
    {
      "cell_type": "code",
      "source": [
        "# Assuming the image model expects flattened input:\n",
        "def flatten_image_input(X_images):\n",
        "    # Flatten the image input to match the shape expected by the model\n",
        "    return X_images.reshape(X_images.shape[0], -1)\n",
        "\n",
        "# Flatten the test images before passing them to the model\n",
        "X_images_test_flattened = flatten_image_input(X_images_test)\n",
        "\n",
        "# Now make predictions with the flattened images\n",
        "early_fusion_predictions = model_early.predict([X_images_test_flattened, X_glove_test])\n",
        "early_fusion_predictions = (early_fusion_predictions > 0.5).astype(int)\n"
      ],
      "metadata": {
        "colab": {
          "base_uri": "https://localhost:8080/"
        },
        "id": "oVhNC9fxzWpz",
        "outputId": "fce0c096-389d-4e39-8eed-1574452b4ea2"
      },
      "execution_count": null,
      "outputs": [
        {
          "output_type": "stream",
          "name": "stdout",
          "text": [
            "54/54 [==============================] - 1s 12ms/step\n"
          ]
        }
      ]
    },
    {
      "cell_type": "code",
      "source": [
        "from sklearn.metrics import accuracy_score, precision_score, recall_score, f1_score, confusion_matrix\n",
        "import seaborn as sns\n",
        "import matplotlib.pyplot as plt\n",
        "import numpy as np\n",
        "\n",
        "# Assuming you have the predictions and ground truth\n",
        "# Replace with your actual test data\n",
        "y_pred = model.predict([X_images_test, X_glove_test])\n",
        "y_pred = (y_pred > 0.5).astype(int)  # If it's a binary classification problem\n",
        "\n",
        "# Calculate the accuracy\n",
        "accuracy = accuracy_score(y_test, y_pred)\n",
        "print(f\"Accuracy: {accuracy:.4f}\")\n",
        "\n",
        "# Calculate precision, recall, and F1-score\n",
        "precision = precision_score(y_test, y_pred)\n",
        "recall = recall_score(y_test, y_pred)\n",
        "f1 = f1_score(y_test, y_pred)\n",
        "\n",
        "print(f\"Precision: {precision:.4f}\")\n",
        "print(f\"Recall: {recall:.4f}\")\n",
        "print(f\"F1 Score: {f1:.4f}\")\n",
        "\n",
        "# Confusion Matrix\n",
        "cm = confusion_matrix(y_test, y_pred)\n",
        "print(f\"Confusion Matrix:\\n{cm}\")\n",
        "\n",
        "# Plot the confusion matrix\n",
        "plt.figure(figsize=(6,6))\n",
        "sns.heatmap(cm, annot=True, fmt='d', cmap='Blues', xticklabels=['Non-Hateful', 'Hateful'], yticklabels=['Non-Hateful', 'Hateful'])\n",
        "plt.xlabel('Predicted')\n",
        "plt.ylabel('True')\n",
        "plt.title('Confusion Matrix')\n",
        "plt.show()\n"
      ],
      "metadata": {
        "colab": {
          "base_uri": "https://localhost:8080/",
          "height": 703
        },
        "id": "9uTYAg1Rz2vk",
        "outputId": "0de1ac0d-ff04-4302-80da-dd491910869e"
      },
      "execution_count": null,
      "outputs": [
        {
          "output_type": "stream",
          "name": "stdout",
          "text": [
            "54/54 [==============================] - 5s 87ms/step\n",
            "Accuracy: 0.6724\n",
            "Precision: 0.6090\n",
            "Recall: 0.3040\n",
            "F1 Score: 0.4055\n",
            "Confusion Matrix:\n",
            "[[953 122]\n",
            " [435 190]]\n"
          ]
        },
        {
          "output_type": "display_data",
          "data": {
            "text/plain": [
              "<Figure size 600x600 with 2 Axes>"
            ],
            "image/png": "[encoded data removed]"
          },
          "metadata": {}
        }
      ]
    },
    {
      "cell_type": "code",
      "source": [
        "# Saving the model\n",
        "model.save('multimodal_fusion_model.h5')  # Save the entire model (architecture + weights + optimizer)\n",
        "\n",
        "# To load the model later\n",
        "from tensorflow.keras.models import load_model\n",
        "saved_model = load_model('multimodal_fusion_model.h5')\n",
        "\n",
        "# Check if the model is loaded correctly\n",
        "saved_model.summary()\n"
      ],
      "metadata": {
        "colab": {
          "base_uri": "https://localhost:8080/"
        },
        "id": "CmwR0MIW0JL0",
        "outputId": "c36d32f2-3aeb-4d4b-eb96-d814830b8c88"
      },
      "execution_count": null,
      "outputs": [
        {
          "output_type": "stream",
          "name": "stderr",
          "text": [
            "/usr/local/lib/python3.10/dist-packages/keras/src/engine/training.py:3103: UserWarning: You are saving your model as an HDF5 file via `model.save()`. This file format is considered legacy. We recommend using instead the native Keras format, e.g. `model.save('my_model.keras')`.\n",
            "  saving_api.save_model(\n"
          ]
        },
        {
          "output_type": "stream",
          "name": "stdout",
          "text": [
            "Model: \"model_9\"\n",
            "__________________________________________________________________________________________________\n",
            " Layer (type)                Output Shape                 Param #   Connected to                  \n",
            "==================================================================================================\n",
            " input_11 (InputLayer)       [(None, 224, 224, 3)]        0         []                            \n",
            "                                                                                                  \n",
            " conv2d_9 (Conv2D)           (None, 222, 222, 32)         896       ['input_11[0][0]']            \n",
            "                                                                                                  \n",
            " max_pooling2d_8 (MaxPoolin  (None, 111, 111, 32)         0         ['conv2d_9[0][0]']            \n",
            " g2D)                                                                                             \n",
            "                                                                                                  \n",
            " conv2d_10 (Conv2D)          (None, 109, 109, 64)         18496     ['max_pooling2d_8[0][0]']     \n",
            "                                                                                                  \n",
            " max_pooling2d_9 (MaxPoolin  (None, 54, 54, 64)           0         ['conv2d_10[0][0]']           \n",
            " g2D)                                                                                             \n",
            "                                                                                                  \n",
            " input_12 (InputLayer)       [(None, 50)]                 0         []                            \n",
            "                                                                                                  \n",
            " conv2d_11 (Conv2D)          (None, 52, 52, 128)          73856     ['max_pooling2d_9[0][0]']     \n",
            "                                                                                                  \n",
            " dense_17 (Dense)            (None, 128)                  6528      ['input_12[0][0]']            \n",
            "                                                                                                  \n",
            " global_average_pooling2d_1  (None, 128)                  0         ['conv2d_11[0][0]']           \n",
            "  (GlobalAveragePooling2D)                                                                        \n",
            "                                                                                                  \n",
            " dense_18 (Dense)            (None, 64)                   8256      ['dense_17[0][0]']            \n",
            "                                                                                                  \n",
            " flatten_3 (Flatten)         (None, 128)                  0         ['global_average_pooling2d_1[0\n",
            "                                                                    ][0]']                        \n",
            "                                                                                                  \n",
            " flatten_4 (Flatten)         (None, 64)                   0         ['dense_18[0][0]']            \n",
            "                                                                                                  \n",
            " concatenate_5 (Concatenate  (None, 192)                  0         ['flatten_3[0][0]',           \n",
            " )                                                                   'flatten_4[0][0]']           \n",
            "                                                                                                  \n",
            " dense_19 (Dense)            (None, 128)                  24704     ['concatenate_5[0][0]']       \n",
            "                                                                                                  \n",
            " dense_20 (Dense)            (None, 64)                   8256      ['dense_19[0][0]']            \n",
            "                                                                                                  \n",
            " dense_21 (Dense)            (None, 1)                    65        ['dense_20[0][0]']            \n",
            "                                                                                                  \n",
            "==================================================================================================\n",
            "Total params: 141057 (551.00 KB)\n",
            "Trainable params: 141057 (551.00 KB)\n",
            "Non-trainable params: 0 (0.00 Byte)\n",
            "__________________________________________________________________________________________________\n"
          ]
        }
      ]
    },
    {
      "cell_type": "code",
      "source": [
        "from sklearn.metrics import roc_curve, auc\n",
        "\n",
        "def plot_roc_curve(y_true, y_pred):\n",
        "    fpr, tpr, thresholds = roc_curve(y_true, y_pred)\n",
        "    roc_auc = auc(fpr, tpr)\n",
        "\n",
        "    plt.figure(figsize=(8, 6))\n",
        "    plt.plot(fpr, tpr, color='blue', lw=2, label=f'ROC curve (area = {roc_auc:.2f})')\n",
        "    plt.plot([0, 1], [0, 1], color='gray', linestyle='--')\n",
        "    plt.xlabel('False Positive Rate')\n",
        "    plt.ylabel('True Positive Rate')\n",
        "    plt.title('Receiver Operating Characteristic (ROC) Curve')\n",
        "    plt.legend(loc=\"lower right\")\n",
        "    plt.show()\n",
        "\n",
        "# Assuming y_pred and y_test are available (y_pred should be continuous probability scores)\n",
        "plot_roc_curve(y_test, y_pred)\n"
      ],
      "metadata": {
        "colab": {
          "base_uri": "https://localhost:8080/",
          "height": 564
        },
        "id": "9AowULWH0R6A",
        "outputId": "a770a46f-1860-444c-c36e-02a98aca1e5d"
      },
      "execution_count": null,
      "outputs": [
        {
          "output_type": "display_data",
          "data": {
            "text/plain": [
              "<Figure size 800x600 with 1 Axes>"
            ],
            "image/png": "[encoded data removed]"
          },
          "metadata": {}
        }
      ]
    },
    {
      "cell_type": "code",
      "source": [],
      "metadata": {
        "id": "v_f3vHRW8ZKB"
      },
      "execution_count": null,
      "outputs": []
    }
  ]
}